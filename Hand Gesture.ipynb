{
 "cells": [
  {
   "cell_type": "markdown",
   "metadata": {},
   "source": [
    "# Image Hand Gesture Preprocessing"
   ]
  },
  {
   "cell_type": "code",
   "execution_count": 1,
   "metadata": {},
   "outputs": [],
   "source": [
    "import cv2\n",
    "import numpy as np\n",
    "img = cv2.imread(\"/home/zadmin/Desktop/capture5.jpeg\")\n",
    "blurred = cv2.GaussianBlur(img, (5, 5), 0) # Remove noise\n",
    "edge=cv2.Canny(blurred,50,100)\n",
    "contours, hierarchy = cv2.findContours(edge,cv2.RETR_EXTERNAL, cv2.CHAIN_APPROX_NONE)\n",
    "cv2.drawContours(img, contours, -1, (0, 255, 0),2)\n",
    "cv2.imshow('contour',img)\n",
    "cv2.imshow('canny',edge)\n",
    "def edgedetect (channel):\n",
    "    sobelX = cv2.Sobel(channel, cv2.CV_16S, 1, 0)\n",
    "    sobelY = cv2.Sobel(channel, cv2.CV_16S, 0, 1)\n",
    "    sobel = np.hypot(sobelX, sobelY)\n",
    "    sobel[sobel > 255] = 255; # Some values seem to go above 255. However RGB channels has to be within 0-255\n",
    "    return sobel\n",
    "\n",
    "edgeImg = np.max( np.array([ edgedetect(blurred[:,:, 0]), edgedetect(blurred[:,:, 1]), edgedetect(blurred[:,:, 2]) ]), axis=0 )\n",
    "mean = np.mean(edgeImg);\n",
    "# Zero any value that is less than mean. This reduces a lot of noise.\n",
    "edgeImg[edgeImg <= mean] = 0;\n",
    "cv2.namedWindow(\"sobel\", cv2.WINDOW_NORMAL)\n",
    "cv2.imshow('sobel',edgeImg)'''\n",
    "\n",
    "\n",
    "'''cv2.namedWindow(\"input\", cv2.WINDOW_NORMAL)\n",
    "cv2.namedWindow(\"img\", cv2.WINDOW_NORMAL)\n",
    "im = cv2.imread(\"/home/zadmin/Desktop/capture5.jpeg\")\n",
    "cv2.imshow('input',im)\n",
    "im_gray = cv2.cvtColor(im, cv2.COLOR_BGR2GRAY)\n",
    "ret, thresh = cv2.threshold(im_gray,0,255,cv2.THRESH_BINARY_INV+cv2.THRESH_OTSU)\n",
    "blurred = cv2.GaussianBlur(thresh, (5, 5), 0) # Remove noise\n",
    "cv2.imshow('img',blurred)'''\n",
    "if(cv2.waitKey(0)==ord('q')):\n",
    "    cv2.destroyAllWindows()\n",
    "\n"
   ]
  },
  {
   "cell_type": "code",
   "execution_count": 9,
   "metadata": {},
   "outputs": [],
   "source": [
    "def edgedetect (channel):\n",
    "    sobelX = cv2.Sobel(channel, cv2.CV_16S, 1, 0)\n",
    "    sobelY = cv2.Sobel(channel, cv2.CV_16S, 0, 1)\n",
    "    sobel = np.hypot(sobelX, sobelY)\n",
    "    sobel[sobel > 255] = 255; # Some values seem to go above 255. However RGB channels has to be within 0-255\n",
    "    return sobel"
   ]
  },
  {
   "cell_type": "markdown",
   "metadata": {},
   "source": [
    "# Video Hand Gesture Preprocessing"
   ]
  },
  {
   "cell_type": "code",
   "execution_count": 11,
   "metadata": {},
   "outputs": [],
   "source": [
    "import cv2 #image processing library-opencv\n",
    "import numpy as np\n",
    "\n",
    "cam = cv2.VideoCapture(0)\n",
    "# Add the location for static image\n",
    "while True:\n",
    "    ret, frame = cam.read()#frame-by-frame capturing\n",
    "    frame = cv2.flip(frame,1)#frame flipping\n",
    "    boxFrame=cv2.rectangle(frame, (325,50),(600,400), (0,255,0), thickness=2)#creates a box area for hand gesture\n",
    "    croppedBox=boxFrame[48:402, 323:602] #image cropping using array slicing\n",
    "    blurred = cv2.GaussianBlur(croppedBox, (5, 5), 0) # Remove noise\n",
    "    cannyEdge=cv2.Canny(blurred,50,100) #canny edge detection on cropped image\n",
    "#     edgeImg = np.max( np.array([ edgedetect(blurred[:,:, 0]), edgedetect(blurred[:,:, 1]), edgedetect(blurred[:,:, 2]) ]), axis=0 )\n",
    "#     mean = np.mean(edgeImg);# Zero any value that is less than mean. This reduces a lot of noise.\n",
    "#     edgeImg[edgeImg <= mean] = 0;\n",
    "#     cv2.imshow('sobel',edgeImg)\n",
    "    cv2.imshow(\"Live Video\", frame)\n",
    "    cv2.imshow('Canny video',cannyEdge)\n",
    "    if(cv2.waitKey(1)==ord('q')):\n",
    "        break\n",
    "cam.release()#removes the camera\n",
    "cv2.destroyAllWindows()#destroies all the windows"
   ]
  },
  {
   "cell_type": "code",
   "execution_count": null,
   "metadata": {},
   "outputs": [],
   "source": []
  }
 ],
 "metadata": {
  "kernelspec": {
   "display_name": "Python 3",
   "language": "python",
   "name": "python3"
  },
  "language_info": {
   "codemirror_mode": {
    "name": "ipython",
    "version": 3
   },
   "file_extension": ".py",
   "mimetype": "text/x-python",
   "name": "python",
   "nbconvert_exporter": "python",
   "pygments_lexer": "ipython3",
   "version": "3.7.4"
  }
 },
 "nbformat": 4,
 "nbformat_minor": 2
}
